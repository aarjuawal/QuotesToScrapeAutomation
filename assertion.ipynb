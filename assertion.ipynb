{
 "cells": [
  {
   "cell_type": "code",
   "execution_count": 45,
   "metadata": {},
   "outputs": [],
   "source": [
    "from selenium import webdriver\n",
    "from selenium.webdriver.common.by import By\n",
    "from selenium.webdriver.support.select import Select\n",
    "from selenium.webdriver.support.ui import WebDriverWait\n",
    "import time\n",
    "from selenium.webdriver.support import expected_conditions as EC\n",
    "from unittest import TestCase\n",
    "from selenium.webdriver.chrome.options import Options"
   ]
  },
  {
   "cell_type": "code",
   "execution_count": null,
   "metadata": {},
   "outputs": [],
   "source": [
    "def setup():\n",
    "    chrome_options = Options()\n",
    "    chrome_options.add_argument(\"--headless\")  # Run Chrome in headless mode\n",
    "    driver = webdriver.Chrome(options=chrome_options)\n",
    "    driver.get(\"https://quotes.toscrape.com/\")\n",
    "    return driver"
   ]
  },
  {
   "cell_type": "code",
   "execution_count": 47,
   "metadata": {},
   "outputs": [],
   "source": [
    "def teardown(driver):\n",
    "    driver.quit()\n"
   ]
  },
  {
   "cell_type": "code",
   "execution_count": null,
   "metadata": {},
   "outputs": [],
   "source": [
    "def element_locator():\n",
    "      return {\n",
    "        \"quotes\": '//div[@class=\"quote\"]/span[@itemprop=\"text\"]',\n",
    "        \"title\": '//h1',\n",
    "        \"first_quote\": '//div[@class=\"quote\"][1]',\n",
    "        \"authors\": '//div[@class=\"quote\"]/span/small[@itemprop=\"author\"]',\n",
    "        \"tags\": '//div[@class=\"tags\"]/a',\"\"\n",
    "        \"top_tags\": \"//span[@class='tag-item']/a[@class='tag']\",\n",
    "        \"next_button\": \"//li[@class='next']/a\",\n",
    "        \"love_button\": \"//span[@class='tag-item']/a[@class='tag' and text()='love']\",\n",
    "        \"about_link\": \"(//small[@class='author']/following-sibling::a)[1]\",\n",
    "        \"about_description\": '(//div[@class=\"author-details\"]//child::strong)[2]',\n",
    "        \"login_button\": \"//p/a[text()='Login']\",\n",
    "        \"username_field\": \"//input[@id='username']\",\n",
    "        \"password_field\": \"//input[@id='password']\",\n",
    "        \"submit_button\": \"//input[@type='submit']\",\n",
    "        \"logout_button\": \"//p/a[@href='/logout']\",\n",
    "        \"author_birth_name\": \"//h3[@class='author-title']\",\n",
    "        \"author_birth_date\": \"//span[@class='author-born-date']\",\n",
    "        \"author_birth_location\": \"//span[@class='author-born-location']\"\n",
    "      }"
   ]
  },
  {
   "cell_type": "code",
   "execution_count": 49,
   "metadata": {},
   "outputs": [
    {
     "name": "stdout",
     "output_type": "stream",
     "text": [
      "pass-title found\n"
     ]
    }
   ],
   "source": [
    "class TestQuotesToScrape(TestCase):\n",
    "\n",
    "    def test_AssertTitle(self):\n",
    "        driver = setup()\n",
    "        try:\n",
    "            self.assertEqual(driver.title, \"Quotes to Scrape\")\n",
    "            print('pass-title found')\n",
    "        except AssertionError as e:\n",
    "            print('fail-title not found')\n",
    "            print(e)\n",
    "        finally:\n",
    "            teardown(driver)\n",
    "    \n",
    "TestQuotesToScrape().test_AssertTitle()"
   ]
  },
  {
   "cell_type": "code",
   "execution_count": 50,
   "metadata": {},
   "outputs": [
    {
     "name": "stdout",
     "output_type": "stream",
     "text": [
      "testpass-author found\n",
      "testpass-tag found\n",
      "testpass-author found\n",
      "testpass-tag found\n",
      "testpass-author found\n",
      "testpass-tag found\n",
      "testpass-author found\n",
      "testpass-tag found\n",
      "testpass-author found\n",
      "testpass-tag found\n",
      "testpass-author found\n",
      "testpass-tag found\n",
      "testpass-author found\n",
      "testpass-tag found\n",
      "testpass-author found\n",
      "testpass-tag found\n",
      "testpass-author found\n",
      "testpass-tag found\n",
      "testpass-author found\n",
      "testpass-tag found\n"
     ]
    }
   ],
   "source": [
    "class TestQuotesContent(TestCase):\n",
    "    def quotes_contents(self):\n",
    "        driver = setup()\n",
    "        locator = element_locator()\n",
    "        try:\n",
    "            quotes = driver.find_elements(By.XPATH, locator['quotes'])\n",
    "            for quote in quotes:\n",
    "                author = driver.find_elements(By.XPATH, locator['authors'])\n",
    "                tags = driver.find_elements(By.XPATH, locator['tags'])\n",
    "                self.assertTrue(author, \"Author is missing in quote block\")\n",
    "                print('testpass-author found')\n",
    "                self.assertTrue(tags, \"Tags are missing in quote block\")\n",
    "                print('testpass-tag found')\n",
    "\n",
    "        except AssertionError as e:\n",
    "            print(e)    \n",
    "        teardown(driver)\n",
    "TestQuotesContent().quotes_contents()        "
   ]
  },
  {
   "cell_type": "code",
   "execution_count": 51,
   "metadata": {},
   "outputs": [
    {
     "name": "stdout",
     "output_type": "stream",
     "text": [
      "'“The world as we have created it is a process of our thinking. It cannot be changed without changing our thinking.”'\n",
      "-byAlbert Einstein\n",
      "Tags: change, deep-thoughts, thinking, world\n",
      "Test Result: pass - Author is present\n",
      "'“It is our choices, Harry, that show what we truly are, far more than our abilities.”'\n",
      "-byJ.K. Rowling\n",
      "Tags: abilities, choices\n",
      "Test Result: pass - Author is present\n",
      "'“There are only two ways to live your life. One is as though nothing is a miracle. The other is as though everything is a miracle.”'\n",
      "-byAlbert Einstein\n",
      "Tags: inspirational, life, live, miracle, miracles\n",
      "Test Result: pass - Author is present\n",
      "'“The person, be it gentleman or lady, who has not pleasure in a good novel, must be intolerably stupid.”'\n",
      "-byJane Austen\n",
      "Tags: aliteracy, books, classic, humor\n",
      "Test Result: pass - Author is present\n",
      "'“Imperfection is beauty, madness is genius and it's better to be absolutely ridiculous than absolutely boring.”'\n",
      "-byMarilyn Monroe\n",
      "Tags: be-yourself, inspirational\n",
      "Test Result: pass - Author is present\n",
      "'“Try not to become a man of success. Rather become a man of value.”'\n",
      "-byAlbert Einstein\n",
      "Tags: adulthood, success, value\n",
      "Test Result: pass - Author is present\n",
      "'“It is better to be hated for what you are than to be loved for what you are not.”'\n",
      "-byAndré Gide\n",
      "Tags: life, love\n",
      "Test Result: pass - Author is present\n",
      "'“I have not failed. I've just found 10,000 ways that won't work.”'\n",
      "-byThomas A. Edison\n",
      "Tags: edison, failure, inspirational, paraphrased\n",
      "Test Result: pass - Author is present\n",
      "'“A woman is like a tea bag; you never know how strong it is until it's in hot water.”'\n",
      "-byEleanor Roosevelt\n",
      "Tags: misattributed-eleanor-roosevelt\n",
      "Test Result: pass - Author is present\n",
      "'“A day without sunshine is like, you know, night.”'\n",
      "-bySteve Martin\n",
      "Tags: humor, obvious, simile\n",
      "Test Result: pass - Author is present\n"
     ]
    }
   ],
   "source": [
    "class TestAuthor(TestCase):\n",
    "    def check_for_quote(self):\n",
    "        driver = setup()\n",
    "        quotes = driver.find_elements(By.CLASS_NAME, 'text')\n",
    "        authors = driver.find_elements(By.CLASS_NAME, 'author')\n",
    "        tags_list = driver.find_elements(By.CLASS_NAME, 'tags')\n",
    "\n",
    "        for i in range(len(quotes)):\n",
    "            print(f\"'{quotes[i].text}'\")\n",
    "            print(f\"-by{authors[i].text}\")\n",
    "            tags = tags_list[i].find_elements(By.TAG_NAME,'a')\n",
    "            tag_texts = [tag.text for tag in tags]\n",
    "            if tag_texts:\n",
    "                print(\"Tags:\", \", \".join(tag_texts))\n",
    "            else:\n",
    "                print(\"Tags: None\")\n",
    "            expected_result= authors[i].text\n",
    "            try:\n",
    "                self.assertGreater(len(authors),0,\"Test Result: fail - author is not present.\")\n",
    "                print(\"Test Result: pass - Author is present\")\n",
    "            except AssertionError as e:\n",
    "                print(e)\n",
    "            \n",
    "\n",
    "        teardown(driver)\n",
    "TestAuthor().check_for_quote() "
   ]
  },
  {
   "cell_type": "code",
   "execution_count": 52,
   "metadata": {},
   "outputs": [
    {
     "name": "stdout",
     "output_type": "stream",
     "text": [
      "change\n",
      "deep-thoughts\n",
      "thinking\n",
      "world\n",
      "abilities\n",
      "choices\n",
      "inspirational\n",
      "life\n",
      "live\n",
      "miracle\n",
      "miracles\n",
      "aliteracy\n",
      "books\n",
      "classic\n",
      "humor\n",
      "be-yourself\n",
      "inspirational\n",
      "adulthood\n",
      "success\n",
      "value\n",
      "life\n",
      "love\n",
      "edison\n",
      "failure\n",
      "inspirational\n",
      "paraphrased\n",
      "misattributed-eleanor-roosevelt\n",
      "humor\n",
      "obvious\n",
      "simile\n",
      "Testpass-found world\n"
     ]
    }
   ],
   "source": [
    "class TestTagPresence(TestCase):    \n",
    "    def get_tags(self):\n",
    "        driver = setup()\n",
    "        locator=element_locator()\n",
    "        pTag = driver.find_elements(By.XPATH, locator[\"tags\"])\n",
    "        p_text=[p.text for p in pTag]\n",
    "        for val in pTag:\n",
    "            print(val.text)\n",
    "\n",
    "        try:\n",
    "            self.assertIn(\"world\",p_text,\"TestFailed-world not found\")\n",
    "            print(\"Testpass-found world\")\n",
    "        except AssertionError as e:\n",
    "            print(e)\n",
    "        \n",
    "\n",
    "        teardown(driver)\n",
    "TestTagPresence().get_tags()"
   ]
  },
  {
   "cell_type": "code",
   "execution_count": 53,
   "metadata": {},
   "outputs": [
    {
     "name": "stdout",
     "output_type": "stream",
     "text": [
      "Success!-found title\n"
     ]
    }
   ],
   "source": [
    "class Lovebtn(TestCase):\n",
    "  def love_btn(self):\n",
    "    driver=setup()\n",
    "    locator = element_locator()\n",
    "    loveBtn =driver.find_element(By.XPATH, locator[\"love_button\"] )\n",
    "    loveBtn.click()\n",
    "    try:\n",
    "      actres=driver.find_element(By.XPATH, \"//div[@class='container']/h3\")\n",
    "      actualResult = actres.text\n",
    "      expectedResult= \"Viewing tag: love\"\n",
    "      self.assertEqual(actualResult,expectedResult,'failed-title not found')\n",
    "\n",
    "      print(\"Success!-found title\")\n",
    "    except AssertionError as e:\n",
    "      print(e)\n",
    "    teardown(driver) \n",
    "Lovebtn().love_btn()\n"
   ]
  },
  {
   "cell_type": "code",
   "execution_count": 54,
   "metadata": {},
   "outputs": [
    {
     "name": "stdout",
     "output_type": "stream",
     "text": [
      "Login Successful\n"
     ]
    }
   ],
   "source": [
    "class TestLogin(TestCase):\n",
    "    def valid_credentials(self):\n",
    "        driver = setup()\n",
    "        wait = WebDriverWait(driver, 10)\n",
    "        locator = element_locator()\n",
    "        LoginBtn = driver.find_element(By.XPATH, locator[\"login_button\"])\n",
    "        LoginBtn.click()\n",
    "        username = wait.until(EC.presence_of_element_located((By.XPATH, locator[\"username_field\"])))\n",
    "        username.send_keys(\"aa@gmail.com\")\n",
    "        password= driver.find_element(By.XPATH, locator[\"password_field\"])\n",
    "        password.send_keys(\"akkaka\")\n",
    "        submit = driver.find_element(By.XPATH, locator[\"submit_button\"])\n",
    "        submit.click()\n",
    "        logout= wait.until(EC.presence_of_element_located((By.XPATH, \"//p/a[@href='/logout']\")))\n",
    "        actualResult=logout.text\n",
    "        expectedResult=\"Logout\"\n",
    "        try:\n",
    "            self.assertEqual(actualResult,expectedResult,\"Login unsuccessful\")\n",
    "            print(\"Login Successful\")\n",
    "        except Exception as e:\n",
    "            print(e)\n",
    "        finally:\n",
    "            teardown(driver)\n",
    "TestLogin().valid_credentials()"
   ]
  },
  {
   "cell_type": "code",
   "execution_count": 55,
   "metadata": {},
   "outputs": [
    {
     "name": "stdout",
     "output_type": "stream",
     "text": [
      "'https://quotes.toscrape.com/' != 'https://quotes.toscrape.com'\n",
      "- https://quotes.toscrape.com/\n",
      "?                            -\n",
      "+ https://quotes.toscrape.com\n",
      " : test fail-User is logged in even with invalid username\n"
     ]
    }
   ],
   "source": [
    "class TestLogin2(TestCase):    \n",
    "    def login_with_invalid_username(self):\n",
    "        driver = setup()\n",
    "        wait=WebDriverWait(driver,10)\n",
    "        LoginBtn = driver.find_element(By.XPATH, '//a[@href=\"/login\"]')\n",
    "        LoginBtn.click()\n",
    "        username= wait.until(EC.presence_of_element_located((By.ID, \"username\")))\n",
    "        username.send_keys(\"as@gmail.com\")\n",
    "        password= wait.until(EC.presence_of_element_located((By.ID, \"password\")))\n",
    "        password.send_keys(\"11\")\n",
    "        submit = driver.find_element(By.XPATH, \"//input[@type='submit']\")\n",
    "        submit.click()\n",
    "        time.sleep(2)\n",
    "        expected_result=\"https://quotes.toscrape.com\"\n",
    "        try:\n",
    "            actual_result = driver.current_url\n",
    "            self.assertEqual(actual_result,expected_result,\"test fail-User is logged in even with invalid username\")\n",
    "\n",
    "            print(\"Test Result: Pass - User is not logged in with invalid username.\")\n",
    "        except AssertionError as e:\n",
    "            print(e)\n",
    "            \n",
    "        \n",
    "        teardown(driver)\n",
    "TestLogin2().login_with_invalid_username()"
   ]
  },
  {
   "cell_type": "code",
   "execution_count": 56,
   "metadata": {},
   "outputs": [
    {
     "name": "stdout",
     "output_type": "stream",
     "text": [
      "Test Result: Pass - User is not logged in with empty credentials.\n"
     ]
    }
   ],
   "source": [
    "class TestLoginWithEmptyField(TestCase):    \n",
    "    def login_with_empty_field(self):\n",
    "        driver = setup()\n",
    "        locator=element_locator()\n",
    "        wait=WebDriverWait(driver,10)\n",
    "        LoginBtn = driver.find_element(By.XPATH, locator['login_button'])\n",
    "        LoginBtn.click()\n",
    "        username= wait.until(EC.presence_of_element_located((By.XPATH, locator['username_field'])))\n",
    "        username.send_keys(\"\")\n",
    "        password= wait.until(EC.presence_of_element_located((By.XPATH, locator['password_field'])))\n",
    "        password.send_keys(\"\")\n",
    "        submit = driver.find_element(By.XPATH, locator['submit_button'])\n",
    "        submit.click()\n",
    "        time.sleep(2)\n",
    "        expected_result=\"https://quotes.toscrape.com\"\n",
    "        try:\n",
    "            self.assertTrue(expected_result,\"test fail-User is logged in even with empty credentials\")\n",
    "            print(\"Test Result: Pass - User is not logged in with empty credentials.\")\n",
    "        except AssertionError as e:\n",
    "            print(e)   \n",
    "        teardown(driver)\n",
    "TestLoginWithEmptyField().login_with_empty_field()"
   ]
  },
  {
   "cell_type": "code",
   "execution_count": 57,
   "metadata": {},
   "outputs": [
    {
     "name": "stdout",
     "output_type": "stream",
     "text": [
      "Testpass-top tags are less than 11\n"
     ]
    }
   ],
   "source": [
    "class TestTagCount(TestCase):    \n",
    "    def check_lessthan(self):\n",
    "        driver = setup()\n",
    "        locator=element_locator()\n",
    "        Top_tag = driver.find_elements(By.XPATH, locator[\"top_tags\"])        \n",
    "        try:\n",
    "            self.assertLess(len(Top_tag),11,\"TestFail-top tags are not less than 11\")\n",
    "            print(\"Testpass-top tags are less than 11\")\n",
    "        except AssertionError as e:\n",
    "            print(e)\n",
    "        \n",
    "        teardown(driver)\n",
    "TestTagCount().check_lessthan()"
   ]
  },
  {
   "cell_type": "code",
   "execution_count": 58,
   "metadata": {},
   "outputs": [
    {
     "name": "stdout",
     "output_type": "stream",
     "text": [
      "Pass: Total no. of quotes:  100\n"
     ]
    }
   ],
   "source": [
    "class TestQuotesCount(TestCase):    \n",
    "    def check_greaterthan(self):\n",
    "        driver = setup()\n",
    "        locator=element_locator()\n",
    "        totalQuotes=0\n",
    "        quotes = driver.find_elements(By.XPATH, locator[\"quotes\"])  \n",
    "        while True:\n",
    "              noOfQuotesPerPage = len(driver.find_elements(By.XPATH, locator['quotes']))\n",
    "              totalQuotes += noOfQuotesPerPage\n",
    "              next_buttons = driver.find_elements(By.XPATH, locator['next_button'])\n",
    "              if next_buttons:\n",
    "                  next_buttons[0].click()\n",
    "              else:\n",
    "                  break\n",
    "        self.assertGreater(totalQuotes,50, \"Failed: All quotes are not there\")\n",
    "        print(\"Pass: Total no. of quotes: \", totalQuotes)\n",
    "\n",
    "        \n",
    "        teardown(driver)\n",
    "TestQuotesCount().check_greaterthan()"
   ]
  },
  {
   "cell_type": "code",
   "execution_count": 59,
   "metadata": {},
   "outputs": [
    {
     "name": "stdout",
     "output_type": "stream",
     "text": [
      "pass-description is present\n"
     ]
    }
   ],
   "source": [
    "class TestAuthorDescription(TestCase):\n",
    "    def check_description(self):\n",
    "        driver = setup()\n",
    "        locator=element_locator()\n",
    "        try:\n",
    "            about_author= driver.find_element(By.XPATH, locator[\"about_link\"])\n",
    "            about_author.click()\n",
    "            expected_result= \"Description\"\n",
    "            actual_result = driver.find_element(By.XPATH, \"//div[@class='author-details']\")\n",
    "            self.assertIn(expected_result,actual_result.text,\"failed-description not found\")\n",
    "            print(\"pass-description is present\")\n",
    "        except AssertionError as e:\n",
    "              print(e)\n",
    "\n",
    "        teardown(driver)\n",
    "TestAuthorDescription().check_description()\n",
    "\n"
   ]
  },
  {
   "cell_type": "code",
   "execution_count": 60,
   "metadata": {},
   "outputs": [
    {
     "name": "stdout",
     "output_type": "stream",
     "text": [
      "Test Pass - The author details page contains all the author details.\n"
     ]
    }
   ],
   "source": [
    "class TestAuthorDetails(TestCase):\n",
    "    def author_details_page(self):\n",
    "        driver = setup()\n",
    "        locator = element_locator()\n",
    "        about_author= driver.find_element(By.XPATH, locator[\"about_link\"])\n",
    "        about_author.click()\n",
    "        author_name = driver.find_element(By.XPATH, locator['author_birth_name'])\n",
    "        author_dob = driver.find_element(By.XPATH, locator['author_birth_date'])\n",
    "        author_location = driver.find_element(By.XPATH, locator['author_birth_location'])\n",
    "        author_description = driver.find_element(By.XPATH, locator['about_description'])\n",
    "        expected_result = all([author_name, author_dob, author_location, author_description]) \n",
    "        try:\n",
    "            # self.assertTrue(author_name,\"TestFail- Doesnot contains author name\")\n",
    "            # print(\"Test Pass - The author details page contains author name.\")\n",
    "            # self.assertTrue(author_dob,\"TestFail-Doesnot contains author dob\")\n",
    "            # print(\"Test Pass - The author details page contains author date of birth.\")\n",
    "            # self.assertTrue(author_location,\"fail\")\n",
    "            # print(\"Test Pass - The author details page contains author location.\")\n",
    "            # self.assertTrue(author_description,\"fail\")\n",
    "            # print(\"Test Pass - The author details page contains author description.\")\n",
    "             self.assertTrue(expected_result,\"TestFail- The author details paeg doesnot contains all the author details\")\n",
    "             print(\"Test Pass - The author details page contains all the author details.\")\n",
    "        except AssertionError as e:\n",
    "            print(e)\n",
    "        \n",
    "        teardown(driver)\n",
    "TestAuthorDetails().author_details_page()"
   ]
  },
  {
   "cell_type": "code",
   "execution_count": 61,
   "metadata": {},
   "outputs": [
    {
     "name": "stdout",
     "output_type": "stream",
     "text": [
      "Testpass-the number of qoutes: 10\n"
     ]
    }
   ],
   "source": [
    "class TestQuotesPerPage(TestCase):\n",
    "    def get_quote_perpage(self):\n",
    "        driver = setup()\n",
    "        locator=element_locator()\n",
    "        try:\n",
    "            noOfQuotesPerPage = len(driver.find_elements(By.XPATH, locator['quotes']))\n",
    "            self.assertLessEqual(noOfQuotesPerPage,10,'TestFailed-the number of quotes is not 10 or less')\n",
    "            print(\"Testpass-the number of qoutes:\", noOfQuotesPerPage)\n",
    "        except AssertionError as e:\n",
    "            print(e)\n",
    "\n",
    "        teardown(driver)\n",
    "TestQuotesPerPage().get_quote_perpage() "
   ]
  },
  {
   "cell_type": "code",
   "execution_count": 62,
   "metadata": {},
   "outputs": [
    {
     "name": "stdout",
     "output_type": "stream",
     "text": [
      "pass-found all items\n"
     ]
    }
   ],
   "source": [
    "class TestWholePageContent(TestCase):\n",
    "    def get_whole_page(self):\n",
    "        driver =setup()\n",
    "        locator = element_locator()\n",
    "        wait = WebDriverWait(driver, 10)\n",
    "        title= wait.until(EC.presence_of_element_located((By.XPATH, locator['title']))).text.strip()\n",
    "        logout= wait.until(EC.presence_of_element_located((By.XPATH, locator['login_button']))).text.strip()\n",
    "        quotes=  wait.until(EC.presence_of_element_located((By.XPATH, locator['quotes']))).text.strip()\n",
    "        tags=  wait.until(EC.presence_of_element_located((By.XPATH, locator['tags']))).text.strip()\n",
    "        next= wait.until(EC.presence_of_element_located((By.XPATH, locator['next_button']))).text.strip()\n",
    "        expected_result = all([title, logout, quotes, tags, next]) \n",
    "        try:\n",
    "            self.assertTrue(expected_result, 'TestFail-some elements are missing')\n",
    "            print('pass-found all items')\n",
    "        except AssertionError as e:\n",
    "            print(e)\n",
    "\n",
    "\n",
    "        teardown(driver)\n",
    "TestWholePageContent().get_whole_page()"
   ]
  },
  {
   "cell_type": "code",
   "execution_count": null,
   "metadata": {},
   "outputs": [],
   "source": []
  }
 ],
 "metadata": {
  "kernelspec": {
   "display_name": "Python 3",
   "language": "python",
   "name": "python3"
  },
  "language_info": {
   "codemirror_mode": {
    "name": "ipython",
    "version": 3
   },
   "file_extension": ".py",
   "mimetype": "text/x-python",
   "name": "python",
   "nbconvert_exporter": "python",
   "pygments_lexer": "ipython3",
   "version": "3.12.9"
  }
 },
 "nbformat": 4,
 "nbformat_minor": 2
}
